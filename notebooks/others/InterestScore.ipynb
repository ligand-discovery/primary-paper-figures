{
 "cells": [
  {
   "cell_type": "code",
   "execution_count": 1,
   "metadata": {},
   "outputs": [
    {
     "name": "stderr",
     "output_type": "stream",
     "text": [
      "Fontconfig warning: ignoring UTF-8: not a valid region tag\n"
     ]
    }
   ],
   "source": [
    "import stylia\n",
    "import pandas as pd\n",
    "import networkx as nx\n",
    "import numpy as np\n",
    "import collections\n",
    "import matplotlib.pyplot as plt\n",
    "\n",
    "df = pd.read_csv(\"../data/finalScreen.tsv\", sep=\"\\t\")\n",
    "df = df[df[\"nUniq\"] >= 2]\n",
    "db = df[df[\"l2fc\"] >= 2.3]\n",
    "db = db[db[\"l2fcM\"] >= 1]\n",
    "db = db[db[\"ml10p\"] > -np.log10(0.05)]\n",
    "db = db[db[\"ml10adjP\"] > -np.log10(2.5)]\n",
    "db = db[db[\"rankRel\"] < 500]"
   ]
  },
  {
   "cell_type": "code",
   "execution_count": 2,
   "metadata": {},
   "outputs": [],
   "source": [
    "my_frags = [\"C186\", \"C027\", \"C391\"]\n",
    "my_prots = [\"SLC29A1\", \"DDB1\", \"CDK2\", \"CDK16\"]\n",
    "my_pairs = [\n",
    "    (\"C186\", \"DDB1\"),\n",
    "    (\"C027\", \"SLC29A1\"),\n",
    "    (\"C391\", \"CDK2\"),\n",
    "    (\"C391\", \"CDK16\")\n",
    "]\n",
    "\n",
    "prot_counts = collections.defaultdict(int)\n",
    "frag_counts = collections.defaultdict(int)\n",
    "G = nx.Graph()\n",
    "\n",
    "for r in db[[\"fragId\", \"geneName\", \"l2fcM\"]].values:\n",
    "    prot_counts[r[1]] += 1\n",
    "    frag_counts[r[0]] += 1\n",
    "\n",
    "for r in db[[\"fragId\", \"geneName\", \"l2fcM\"]].values:\n",
    "    if prot_counts[\"geneName\"] >= 10:\n",
    "        continue\n",
    "    G.add_edge(r[0], r[1], weight=r[2])"
   ]
  },
  {
   "cell_type": "code",
   "execution_count": 3,
   "metadata": {},
   "outputs": [
    {
     "name": "stdout",
     "output_type": "stream",
     "text": [
      "SLC29A1 Tclin\n",
      "DDB1 Tbio\n",
      "CDK2 Tchem\n",
      "CDK16 Tchem\n"
     ]
    }
   ],
   "source": [
    "import csv\n",
    "\n",
    "pid2name = {}\n",
    "with open(\"../data/pid2name_primary.tsv\", \"r\") as f:\n",
    "    reader = csv.reader(f, delimiter=\"\\t\")\n",
    "    for r in reader:\n",
    "        pid2name[r[0]] = r[1]\n",
    "\n",
    "\n",
    "prot2idg = {}\n",
    "with open(\"../data/pharos_protein_category.tsv\", \"r\") as f:\n",
    "    reader = csv.reader(f, delimiter=\"\\t\")\n",
    "    for r in reader:\n",
    "        if r[0] not in pid2name:\n",
    "            continue\n",
    "        prot2idg[pid2name[r[0]]] = r[1]\n",
    "\n",
    "for p in my_prots:\n",
    "    print(p, prot2idg[p])"
   ]
  },
  {
   "cell_type": "code",
   "execution_count": 109,
   "metadata": {},
   "outputs": [
    {
     "name": "stdout",
     "output_type": "stream",
     "text": [
      "('C186', 'DDB1') 2.137866709483578\n",
      "('C027', 'SLC29A1') 2.0443087493909395\n",
      "('C391', 'CDK2') 2.136253741503981\n",
      "('C391', 'CDK16') 2.1645462064663734\n"
     ]
    },
    {
     "data": {
      "image/png": "[encoded data removed]",
      "text/plain": [
       "<Figure size 141.8x56.72 with 1 Axes>"
      ]
     },
     "metadata": {},
     "output_type": "display_data"
    }
   ],
   "source": [
    "from scipy.stats import percentileofscore\n",
    "from stylia  import NamedColors\n",
    "from sklearn.preprocessing import PowerTransformer, QuantileTransformer\n",
    "\n",
    "colors = {\n",
    "    \"DDB1\": NamedColors().red,\n",
    "    \"CDK16\": NamedColors().blue,\n",
    "    \"CDK2\": NamedColors().blue,\n",
    "    \"SLC29A1\": NamedColors().purple,\n",
    "    \"C027\": NamedColors().purple,\n",
    "    \"C391\": NamedColors().blue,\n",
    "    \"C186\": NamedColors().red\n",
    "}\n",
    "\n",
    "fig, axs = stylia.create_figure(1, 1, width = stylia.TWO_COLUMNS_WIDTH*0.2, height=stylia.TWO_COLUMNS_WIDTH*0.08)\n",
    "\n",
    "ax = axs.next()\n",
    "\n",
    "pid_c = {}\n",
    "for pid in list(set(db[\"geneName\"])):\n",
    "    v = []\n",
    "    for k,w in dict(G[pid]).items():\n",
    "        v += [w[\"weight\"]]\n",
    "    pid_c[pid] = np.sum(v)\n",
    "    \n",
    "fid_c = {}\n",
    "for fid in list(set(db[\"fragId\"])):\n",
    "    v = []\n",
    "    for k,w in dict(G[fid]).items():\n",
    "        v += [w[\"weight\"]]\n",
    "    fid_c[fid] = np.sum(v)\n",
    "    \n",
    "pairs_c = {}\n",
    "for p in db[[\"fragId\", \"geneName\", \"l2fcM\"]].values:\n",
    "    v = p[2]/np.sqrt(fid_c[p[0]]*pid_c[p[1]])\n",
    "    pairs_c[(p[0], p[1])] = v\n",
    "\n",
    "values = np.array([v for _,v in pairs_c.items()]).reshape(-1,1)\n",
    "trf = PowerTransformer()\n",
    "values = trf.fit_transform(values)[:,0]\n",
    "\n",
    "ax.hist(values, bins=20, lw=0, color=NamedColors().gray)\n",
    "\n",
    "ylim = ax.get_ylim()\n",
    "\n",
    "for p in my_pairs:\n",
    "    x = trf.transform([[pairs_c[p]]])[0,0]\n",
    "    print(p, x)\n",
    "    ax.plot([x, x], [0,ylim[1]], color=colors[p[0]], lw=1)\n",
    "\n",
    "ax.set_yticks([])\n",
    "ax.set_xticks([-2, -1, 0, 1, 2])\n",
    "stylia.label(ax, title=\"\", ylabel=\"\", xlabel=\"Interest score\")\n",
    "\n",
    "plt.tight_layout()\n",
    "stylia.save_figure(\"test.pdf\")\n",
    "stylia.save_figure(\"test.png\")\n"
   ]
  },
  {
   "cell_type": "code",
   "execution_count": 105,
   "metadata": {},
   "outputs": [],
   "source": [
    "import numpy as np\n",
    "import matplotlib.pyplot as plt\n",
    "from scipy.cluster.hierarchy import dendrogram, linkage, leaves_list\n",
    "from scipy.spatial.distance import pdist\n",
    "import h5py\n",
    "\n",
    "def pid2namer(x):\n",
    "    if x in pid2name:\n",
    "        return pid2name[x]\n",
    "    else:\n",
    "        return x\n",
    "\n",
    "with h5py.File(\"../data/Xp_panther.h5\", \"r\") as f:\n",
    "    keys = np.array([pid2namer(x.decode()) for x in f[\"Keys\"][:]])\n",
    "    matrix = f[\"Values\"][:]\n",
    "\n",
    "mask = []\n",
    "for k in keys:\n",
    "    if k in set(db[\"geneName\"]):\n",
    "        mask += [True]\n",
    "    else:\n",
    "        mask += [False]\n",
    "mask = np.array(mask)\n",
    "\n",
    "keys = keys[mask]\n",
    "matrix = matrix[mask]\n",
    "\n",
    "distances = pdist(matrix, metric='euclidean')\n",
    "\n",
    "# Perform hierarchical clustering using the 'ward' method\n",
    "linked = linkage(distances, method='ward', optimal_ordering=True)\n",
    "\n",
    "# Obtain the optimal ordering of the data points based on the hierarchical clustering\n",
    "order = leaves_list(linked)\n",
    "\n",
    "# Sort the matrix rows based on the optimal order\n",
    "sorted_matrix = matrix[order]"
   ]
  },
  {
   "cell_type": "code",
   "execution_count": 106,
   "metadata": {},
   "outputs": [],
   "source": [
    "keys = np.array(keys)[order]"
   ]
  },
  {
   "cell_type": "code",
   "execution_count": 107,
   "metadata": {},
   "outputs": [
    {
     "data": {
      "image/png": "[encoded data removed]",
      "text/plain": [
       "<Figure size 70.9x56.72 with 1 Axes>"
      ]
     },
     "metadata": {},
     "output_type": "display_data"
    }
   ],
   "source": [
    "fig, axs = stylia.create_figure(1, 1, width = stylia.TWO_COLUMNS_WIDTH*0.2*0.5, height=stylia.TWO_COLUMNS_WIDTH*0.08)\n",
    "\n",
    "ax = axs.next()\n",
    "\n",
    "for i, k in enumerate(keys):\n",
    "    if k in my_prots:\n",
    "        ax.plot([i, i], [0, 1], color=colors[k], lw=1)\n",
    "ax.set_yticks([])\n",
    "ax.set_xlim(-50, len(keys))\n",
    "\n",
    "stylia.label(ax, title=\"\", ylabel=\"\", xlabel=\"Prot. by seq.\")\n",
    "plt.tight_layout()\n",
    "stylia.save_figure(\"test_1.pdf\")\n",
    "stylia.save_figure(\"test_1.png\")"
   ]
  },
  {
   "cell_type": "code",
   "execution_count": 85,
   "metadata": {},
   "outputs": [],
   "source": [
    "import joblib\n",
    "Xt = joblib.load(\"../data/Xt_figure1.joblib\")\n",
    "\n",
    "df = pd.read_csv(\"../data/finalScreen.tsv\", sep=\"\\t\")\n",
    "fids = sorted(set(df[\"fragId\"]))\n",
    "idxs = []\n",
    "for fid in sorted(set(db[\"fragId\"])):\n",
    "    idxs += [fids.index(fid)]\n",
    "Xt = Xt[idxs]"
   ]
  },
  {
   "cell_type": "code",
   "execution_count": 102,
   "metadata": {},
   "outputs": [],
   "source": [
    "distances = pdist(Xt, metric='euclidean')\n",
    "\n",
    "# Perform hierarchical clustering using the 'ward' method\n",
    "linked = linkage(distances, method='ward', optimal_ordering=True)\n",
    "\n",
    "# Obtain the optimal ordering of the data points based on the hierarchical clustering\n",
    "order = leaves_list(linked)\n",
    "\n",
    "# Sort the matrix rows based on the optimal order\n",
    "sorted_Xt = Xt[order]"
   ]
  },
  {
   "cell_type": "code",
   "execution_count": 103,
   "metadata": {},
   "outputs": [],
   "source": [
    "fids = np.array(fids)[order]"
   ]
  },
  {
   "cell_type": "code",
   "execution_count": 104,
   "metadata": {},
   "outputs": [
    {
     "data": {
      "image/png": "[encoded data removed]",
      "text/plain": [
       "<Figure size 70.9x56.72 with 1 Axes>"
      ]
     },
     "metadata": {},
     "output_type": "display_data"
    }
   ],
   "source": [
    "fig, axs = stylia.create_figure(1, 1, width = stylia.TWO_COLUMNS_WIDTH*0.2*0.5, height=stylia.TWO_COLUMNS_WIDTH*0.08)\n",
    "\n",
    "ax = axs.next()\n",
    "\n",
    "for i, k in enumerate(fids):\n",
    "    if k in my_frags:\n",
    "        ax.plot([i, i], [0, 1], color=colors[k], lw=1)\n",
    "ax.set_yticks([])\n",
    "ax.set_xlim(-10, len(fids))\n",
    "\n",
    "stylia.label(ax, title=\"\", ylabel=\"\", xlabel=\"Frag. by struct.\")\n",
    "plt.tight_layout()\n",
    "stylia.save_figure(\"test_2.pdf\")\n",
    "stylia.save_figure(\"test_2.png\")"
   ]
  },
  {
   "cell_type": "code",
   "execution_count": null,
   "metadata": {},
   "outputs": [],
   "source": []
  }
 ],
 "metadata": {
  "kernelspec": {
   "display_name": "Python 3",
   "language": "python",
   "name": "python3"
  },
  "language_info": {
   "codemirror_mode": {
    "name": "ipython",
    "version": 3
   },
   "file_extension": ".py",
   "mimetype": "text/x-python",
   "name": "python",
   "nbconvert_exporter": "python",
   "pygments_lexer": "ipython3",
   "version": "3.8.13"
  },
  "orig_nbformat": 4
 },
 "nbformat": 4,
 "nbformat_minor": 2
}
